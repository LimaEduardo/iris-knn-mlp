{
  "nbformat": 4,
  "nbformat_minor": 0,
  "metadata": {
    "colab": {
      "name": "iris-knn-mlp.ipynb",
      "version": "0.3.2",
      "provenance": [],
      "collapsed_sections": []
    },
    "kernelspec": {
      "name": "python3",
      "display_name": "Python 3"
    }
  },
  "cells": [
    {
      "cell_type": "markdown",
      "metadata": {
        "id": "XRDbndJt-UuU",
        "colab_type": "text"
      },
      "source": [
        "\n",
        "**Classificando e comparando isis-dataset utilizando KNN e MLP**\n",
        "\n",
        "Por:\n",
        "* Arthur Souza Cruz\n",
        "* Eduardo Fernando de Lima"
      ]
    },
    {
      "cell_type": "markdown",
      "metadata": {
        "id": "gZ0Acbu0whoF",
        "colab_type": "text"
      },
      "source": [
        "Importações"
      ]
    },
    {
      "cell_type": "code",
      "metadata": {
        "id": "Y8wgquNWwfwL",
        "colab_type": "code",
        "outputId": "954adbdd-8bad-43da-ae9c-d4ab463b53a6",
        "colab": {
          "base_uri": "https://localhost:8080/",
          "height": 34
        }
      },
      "source": [
        "print(__doc__)\n",
        "\n",
        "import math\n",
        "import random\n",
        "import copy\n",
        "from timeit import default_timer as timer\n",
        "\n",
        "\n",
        "from matplotlib.pyplot import figure\n",
        "import matplotlib.pyplot as plt\n",
        "from matplotlib.colors import ListedColormap\n",
        "\n",
        "from sklearn import neighbors, datasets\n",
        "from sklearn.model_selection import train_test_split\n",
        "\n",
        "import numpy as np\n"
      ],
      "execution_count": 0,
      "outputs": [
        {
          "output_type": "stream",
          "text": [
            "Automatically created module for IPython interactive environment\n"
          ],
          "name": "stdout"
        }
      ]
    },
    {
      "cell_type": "markdown",
      "metadata": {
        "id": "1JBK3hFFwlta",
        "colab_type": "text"
      },
      "source": [
        "Classificação utilizando o KNN implementado no scikit"
      ]
    },
    {
      "cell_type": "code",
      "metadata": {
        "id": "J8kRkqkS-Qck",
        "colab_type": "code",
        "colab": {}
      },
      "source": [
        "TEST_PERCENTAGE = 0.2\n",
        "NUMBER_OF_NEIGHBORS = [3,5,10,15,20]\n",
        "\n",
        "# importa o dataset iris\n",
        "iris = datasets.load_iris()\n",
        "\n",
        "# atribui os dados e as predições\n",
        "X = iris.data\n",
        "y = iris.target\n",
        "\n",
        "data_training, data_test, result_training, result_test = train_test_split(X, y, test_size=TEST_PERCENTAGE, random_state=43)\n",
        "\n",
        "results_knn = []\n",
        "\n",
        "for number_of_neighbors in NUMBER_OF_NEIGHBORS:\n",
        "  clf = neighbors.KNeighborsClassifier(number_of_neighbors)\n",
        "  classifier_fit_start_time = timer()\n",
        "  clf.fit(data_training, result_training)\n",
        "  classifier_fit_end_time = timer()\n",
        "  \n",
        "  accuracy = clf.score(data_test, result_test) * 100\n",
        "  time_spent = classifier_fit_end_time - classifier_fit_start_time\n",
        "  results_knn.append({\"n_neighbords\": number_of_neighbors,\"time\": time_spent , \"accuracy\" : accuracy})\n",
        "\n"
      ],
      "execution_count": 0,
      "outputs": []
    },
    {
      "cell_type": "markdown",
      "metadata": {
        "id": "VbxP0qS51Rqj",
        "colab_type": "text"
      },
      "source": [
        "Plotando um gráfico simples para ver como o KNN classificou o dataset com alcance de 5 vizinhos"
      ]
    },
    {
      "cell_type": "code",
      "metadata": {
        "id": "755uQCS_1QFv",
        "colab_type": "code",
        "outputId": "fdb8391c-4a2a-41fd-c5ab-08e3d5797a05",
        "colab": {
          "base_uri": "https://localhost:8080/",
          "height": 286
        }
      },
      "source": [
        "## PARA PLOTAR O GRÁFICO ##\n",
        "\n",
        "# Define as cores\n",
        "cmap_light = ListedColormap(['#FFAAAA', '#AAFFAA', '#AAAAFF'])\n",
        "cmap_bold = ListedColormap(['#FF0000', '#00FF00', '#0000FF'])\n",
        "\n",
        "# Pega só as duas primeiras variáveis para desenhar um gráfico\n",
        "data_training_for_plot = data_training[:, :2]\n",
        "  \n",
        "#Este classificador serve somente para plotar o gráfico\n",
        "clf_for_plot = neighbors.KNeighborsClassifier(5)\n",
        "clf_for_plot.fit(data_training_for_plot, result_training)\n",
        "\n",
        "\n",
        "# point in the mesh [x_min, x_max]x[y_min, y_max].\n",
        "x_min, x_max = data_training_for_plot[:, 0].min() - 1, data_training_for_plot[:, 0].max() + 1\n",
        "y_min, y_max = data_training_for_plot[:, 1].min() - 1, data_training_for_plot[:, 1].max() + 1\n",
        "xx, yy = np.meshgrid(np.arange(x_min, x_max, 0.2),\n",
        "                     np.arange(y_min, y_max, 0.2))\n",
        "Z = clf_for_plot.predict(np.c_[xx.ravel(), yy.ravel()])\n",
        "\n",
        "# Put the result into a color plot\n",
        "Z = Z.reshape(xx.shape)\n",
        "plt.figure()\n",
        "plt.pcolormesh(xx, yy, Z, cmap=cmap_light)\n",
        "\n",
        "# Plot also the training points\n",
        "plt.scatter(X[:, 0], X[:, 1], c=y, cmap=cmap_bold,\n",
        "            edgecolor='k', s=20)\n",
        "plt.xlim(xx.min(), xx.max())\n",
        "plt.ylim(yy.min(), yy.max())"
      ],
      "execution_count": 0,
      "outputs": [
        {
          "output_type": "execute_result",
          "data": {
            "text/plain": [
              "(1.0, 4.999999999999999)"
            ]
          },
          "metadata": {
            "tags": []
          },
          "execution_count": 3
        },
        {
          "output_type": "display_data",
          "data": {
            "image/png": "[encoded data removed]",
            "text/plain": [
              "<Figure size 432x288 with 1 Axes>"
            ]
          },
          "metadata": {
            "tags": []
          }
        }
      ]
    },
    {
      "cell_type": "markdown",
      "metadata": {
        "id": "KW88XWGSty6g",
        "colab_type": "text"
      },
      "source": [
        "\n",
        "No bloco abaixo está nossa implementação de uma rede neural multicamadas utilizada anteriormente para classificação do Iris Dataset.\n",
        "\n",
        "Para saber mais sobre ele acesse o seguinte link compartilhavel :\n",
        "\n",
        "https://drive.google.com/file/d/1_AVv_vfR62SK0HOxVhX9UDjJYNoKbWGE/view?usp=sharing\n"
      ]
    },
    {
      "cell_type": "code",
      "metadata": {
        "id": "7yLKbQPEsMtq",
        "colab_type": "code",
        "outputId": "5945e796-ed22-48aa-e7a8-f4928ac55874",
        "colab": {
          "base_uri": "https://localhost:8080/",
          "height": 208
        }
      },
      "source": [
        "\n",
        "# Change classification to int values\n",
        "def get_classification_value(classification):\n",
        "    if(classification == \"Iris-setosa\"):\n",
        "        return 0\n",
        "    if(classification == \"Iris-versicolor\"):\n",
        "        return 1\n",
        "    if(classification == \"Iris-virginica\"):\n",
        "        return 2\n",
        "\n",
        "\n",
        "# Convert string list to float list\n",
        "def change_string_to_float(string_list):\n",
        "    float_list = []\n",
        "    for i in range(len(string_list)):\n",
        "        float_list.append(float(string_list[i]))\n",
        "    return float_list\n",
        "\n",
        "\n",
        "# Matrix multiplication (for Testing)\n",
        "def matrix_mul_bias(A, B, bias):\n",
        "    C = []\n",
        "    for i in range(len(A)):\n",
        "        C.append([])\n",
        "        for j in range(len(B[0])):\n",
        "            C[i].append(0)\n",
        "    \n",
        "    for i in range(len(A)):\n",
        "        for j in range(len(B[0])):\n",
        "            for k in range(len(B)):\n",
        "                C[i][j] += A[i][k] * B[k][j]\n",
        "            C[i][j] += bias[j]\n",
        "    \n",
        "    return C\n",
        "\n",
        "\n",
        "# Vector (A) x matrix (B) multiplication\n",
        "def vec_mat_bias(A, B, bias):\n",
        "    C = []\n",
        "    for i in range(len(B[0])):\n",
        "        C.append(0)\n",
        "    \n",
        "    for j in range(len(B[0])):\n",
        "        for k in range(len(B)):\n",
        "            C[j] += A[k] * B[k][j]\n",
        "        C[j] += bias[j]\n",
        "    \n",
        "    return C\n",
        "\n",
        "\n",
        "# Matrix (A) x vector (B) multipilicatoin (for backprop)\n",
        "def mat_vec(A, B): \n",
        "    C = []\n",
        "    for i in range(len(A)):\n",
        "        C.append(0)\n",
        "    \n",
        "    for i in range(len(A)):\n",
        "        for j in range(len(B)):\n",
        "            C[i] += A[i][j] * B[j]\n",
        "    return C\n",
        "\n",
        "\n",
        "# derivation of sigmoid (for backprop)\n",
        "def sigmoid(A, deriv=False):\n",
        "    if deriv: \n",
        "        for i in range(len(A)):\n",
        "            A[i] = A[i] * (1 - A[i])\n",
        "    else:\n",
        "        for i in range(len(A)):\n",
        "            A[i] = 1 / (1 + math.exp(-A[i]))\n",
        "    return A\n",
        "\n",
        "\n",
        "\n",
        "\n",
        "train_set = copy.deepcopy(data_training)\n",
        "train_result = copy.deepcopy(result_training)\n",
        "\n",
        "test_set = copy.deepcopy(data_test)\n",
        "test_result = copy.deepcopy(result_test)\n",
        "\n",
        "alpha = 0.01\n",
        "epoch = 700\n",
        "neurons = [4, 6, 3] # number of neurons each layer\n",
        "\n",
        "\n",
        "# Initiate weight and bias with 0 value\n",
        "weights = []\n",
        "for i in range(len(neurons) - 1):\n",
        "    weights.append([])\n",
        "    for j in range(neurons[i]):\n",
        "        weights[i].append([])\n",
        "        for k in range(neurons[i + 1]):\n",
        "            weights[i][j].append(0)\n",
        "\n",
        "weight = []\n",
        "for i in range(len(weights[0])):\n",
        "    weight.append([])\n",
        "    for j in range(len(weights[0][i])):\n",
        "        weight[i].append(weights[0][i][j])\n",
        "\n",
        "weight_2 = []\n",
        "for i in range(len(weights[1])):\n",
        "    weight_2.append([])\n",
        "    for j in range(len(weights[1][i])):\n",
        "        weight_2[i].append(weights[1][i][j])\n",
        "\n",
        "\n",
        "bias_list = []\n",
        "for i in range(1, len(neurons)):\n",
        "    bias_list.append([])\n",
        "    for j in range(neurons[i]):\n",
        "        bias_list[i-1].append(0)\n",
        "\n",
        "bias = []\n",
        "for i in range(len(bias_list[0])):\n",
        "    bias.append(bias_list[0][i])\n",
        "\n",
        "bias_2 = []\n",
        "for i in range(len(bias_list[1])):\n",
        "    bias_2.append(bias_list[1][i])\n",
        "\n",
        "# Initiate weight with random between -1.0 ... 1.0\n",
        "for i in range(neurons[0]):\n",
        "    for j in range(neurons[1]):\n",
        "        weight[i][j] = 2 * random.random() - 1\n",
        "\n",
        "for i in range(neurons[1]):\n",
        "    for j in range(neurons[2]):\n",
        "        weight_2[i][j] = 2 * random.random() - 1\n",
        "\n",
        "        \n",
        "classifier_fit_start_time = timer()\n",
        "for e in range(epoch):\n",
        "    cost_total = 0\n",
        "    for idx, data_list in enumerate(train_set): # Update for each data; SGD\n",
        "\n",
        "\n",
        "        # Forward propagation\n",
        "        h_1 = vec_mat_bias(data_list, weight, bias)\n",
        "        X_1 = sigmoid(h_1)\n",
        "        h_2 = vec_mat_bias(X_1, weight_2, bias_2)\n",
        "        X_2 = sigmoid(h_2)\n",
        "\n",
        "\n",
        "\n",
        "        # Convert to One-hot target\n",
        "        target = [0] * neurons[-1]\n",
        "        target[int(train_result[idx])] = 1\n",
        "\n",
        "\n",
        "        # Cost function, Square Root Eror\n",
        "        eror = 0\n",
        "        for i in range(neurons[-1]):\n",
        "            eror +=  0.5 * (target[i] - X_2[i]) ** 2 \n",
        "        cost_total += eror\n",
        "\n",
        "        # Backward propagation\n",
        "        delta_2 = []\n",
        "        for j in range(neurons[2]):\n",
        "            delta_2.append(-1 * (target[j]-X_2[j]) * X_2[j] * (1-X_2[j]))\n",
        "\n",
        "\n",
        "        for i in range(neurons[1]):\n",
        "            for j in range(neurons[2]):\n",
        "                weight_2[i][j] -= alpha * (delta_2[j] * X_1[i])\n",
        "                bias_2[j] -= alpha * delta_2[j]\n",
        "\n",
        "        delta_1 = mat_vec(weight_2, delta_2)\n",
        "        for j in range(neurons[1]):\n",
        "            delta_1[j] = delta_1[j] * (X_1[j] * (1-X_1[j]))\n",
        "\n",
        "\n",
        "        # Update weight and bias (layer 1)\n",
        "        delta_1 = mat_vec(weight_2, delta_2)\n",
        "        for j in range(neurons[1]):\n",
        "            delta_1[j] = delta_1[j] * (X_1[j] * (1-X_1[j]))\n",
        "\n",
        "        for i in range(neurons[0]):\n",
        "            for j in range(neurons[1]):\n",
        "                weight[i][j] -=  alpha * (delta_1[j] * data_list[i])\n",
        "                bias[j] -= alpha * delta_1[j]\n",
        "\n",
        "\n",
        "    cost_total /= len(train_set)\n",
        "    if(e % 100 == 0):\n",
        "        print(\"Erro da epoca \", e, \": \", cost_total)\n",
        "    elif(e == epoch - 1):\n",
        "        print(\"Erro da ultima epoca: \", cost_total)\n",
        "\n",
        "classifier_fit_end_time = timer()\n",
        "\n",
        "\n",
        "\n",
        "res = matrix_mul_bias(test_set, weight, bias)\n",
        "res_2 = matrix_mul_bias(res, weight_2, bias_2)\n",
        "\n",
        "\n",
        "# Get prediction\n",
        "preds = []\n",
        "for r in res_2:\n",
        "    preds.append(max(enumerate(r), key=lambda x:x[1])[0])\n",
        "\n",
        "for i in range(len(test_result)):\n",
        "    test_result[i] = int(test_result[i])\n",
        "# Print prediction\n",
        "print(\"Resultado esperado: \", test_result)\n",
        "print(\"Predição:\", preds)\n",
        "\n",
        "\n",
        "# Calculate accuration\n",
        "acc = 0.0\n",
        "for i in range(len(preds)):\n",
        "    if preds[i] == int(test_result[i]):\n",
        "        acc += 1\n",
        "        \n",
        "acc = acc / len(preds) * 100\n",
        "print(acc, \"%\")\n",
        "\n",
        "time_spent = classifier_fit_end_time - classifier_fit_start_time\n",
        "results_knn.append({\"our_classification\": \"Nossa Classificação\", \"time\": time_spent , \"accuracy\" : acc})"
      ],
      "execution_count": 0,
      "outputs": [
        {
          "output_type": "stream",
          "text": [
            "Erro da epoca  0 :  0.5620899126650946\n",
            "Erro da epoca  100 :  0.18971876551112718\n",
            "Erro da epoca  200 :  0.1653407468187153\n",
            "Erro da epoca  300 :  0.11611958072299107\n",
            "Erro da epoca  400 :  0.06906314530654964\n",
            "Erro da epoca  500 :  0.0468321829531496\n",
            "Erro da epoca  600 :  0.03638272979449352\n",
            "Erro da ultima epoca:  0.03071919386945383\n",
            "Resultado esperado:  [0 0 2 1 2 0 2 1 1 1 0 1 2 0 1 1 0 0 2 2 0 0 0 2 2 2 0 1 0 0]\n",
            "Predição: [0, 0, 1, 1, 1, 0, 1, 1, 1, 1, 0, 1, 1, 0, 1, 1, 0, 0, 1, 1, 0, 0, 0, 1, 1, 2, 0, 1, 0, 0]\n",
            "73.33333333333333 %\n"
          ],
          "name": "stdout"
        }
      ]
    },
    {
      "cell_type": "markdown",
      "metadata": {
        "id": "VLSwYf3qsi_A",
        "colab_type": "text"
      },
      "source": [
        "Comparações:"
      ]
    },
    {
      "cell_type": "code",
      "metadata": {
        "id": "O6H7xUhNsL0P",
        "colab_type": "code",
        "outputId": "e3121d8c-359c-4dc5-e439-f80e8989b4d7",
        "colab": {
          "base_uri": "https://localhost:8080/",
          "height": 550
        }
      },
      "source": [
        "figure(num=None, figsize=(12, 8), dpi=80, facecolor='w', edgecolor='k')\n",
        "\n",
        "#tuza, adiciona aqui depois os seus resultados relacionados a accuracia\n",
        "objects = []\n",
        "scores = []\n",
        "\n",
        "\n",
        "for result in results_knn[:-1]:\n",
        "  objects.append(str(result[\"n_neighbords\"]) + \" - Vizinhos\")\n",
        "  scores.append(result[\"accuracy\"])\n",
        "\n",
        "objects.append(results_knn[-1][\"our_classification\"])\n",
        "scores.append(results_knn[-1][\"accuracy\"])\n",
        "  \n",
        "y_pos = np.arange(len(objects))\n",
        "\n",
        "plt.bar(y_pos, scores, align='center', alpha=0.5)\n",
        "plt.xticks(y_pos, objects)\n",
        "plt.ylabel('Acurácia')\n",
        "plt.title(f\"Acurácia de cada método\")\n",
        "\n",
        "plt.show()"
      ],
      "execution_count": 0,
      "outputs": [
        {
          "output_type": "display_data",
          "data": {
            "image/png": "[encoded data removed]",
            "text/plain": [
              "<Figure size 960x640 with 1 Axes>"
            ]
          },
          "metadata": {
            "tags": []
          }
        }
      ]
    },
    {
      "cell_type": "code",
      "metadata": {
        "id": "pMPSlkvhttJ4",
        "colab_type": "code",
        "outputId": "29f3dc0f-47ef-4bc3-b338-9b35030a5c01",
        "colab": {
          "base_uri": "https://localhost:8080/",
          "height": 672
        }
      },
      "source": [
        "figure(num=None, figsize=(12, 8), dpi=80, facecolor='w', edgecolor='k')\n",
        "#tuza, adiciona aqui depois os seus resultados relacionados a tempo\n",
        "objects = []\n",
        "times = []\n",
        "print(\"Tempos:\")\n",
        "for result in results_knn[:-1]:\n",
        "  objects.append(str(result[\"n_neighbords\"]) + \" - Vizinhos\")\n",
        "  times.append(result[\"time\"])\n",
        "  print(\"\\t\" + str(result[\"n_neighbords\"]) + \" - Vizinhos: \" + str(result[\"time\"]))\n",
        "\n",
        "objects.append(str(results_knn[-1][\"our_classification\"]))\n",
        "times.append(results_knn[-1][\"time\"])\n",
        "print(\"\\t\" + str(results_knn[-1][\"our_classification\"]) + \": \" + str(results_knn[-1][\"time\"]))\n",
        "  \n",
        "y_pos = np.arange(len(objects))\n",
        "\n",
        "plt.bar(y_pos, times, align='center', alpha=0.5)\n",
        "plt.xticks(y_pos, objects)\n",
        "plt.ylabel('Tempo gasto')\n",
        "plt.title(f\"Tempo gasto para treino (em ms)\")\n",
        "\n",
        "plt.show()"
      ],
      "execution_count": 0,
      "outputs": [
        {
          "output_type": "stream",
          "text": [
            "Tempos:\n",
            "\t3 - Vizinhos: 0.0036673130000011156\n",
            "\t5 - Vizinhos: 0.00038802299999929346\n",
            "\t10 - Vizinhos: 0.00035535800000019435\n",
            "\t15 - Vizinhos: 0.0003696610000005762\n",
            "\t20 - Vizinhos: 0.00036641899999523275\n",
            "\tNossa Classificação: 7.457781295000004\n"
          ],
          "name": "stdout"
        },
        {
          "output_type": "display_data",
          "data": {
            "image/png": "[encoded data removed]",
            "text/plain": [
              "<Figure size 960x640 with 1 Axes>"
            ]
          },
          "metadata": {
            "tags": []
          }
        }
      ]
    }
  ]
}